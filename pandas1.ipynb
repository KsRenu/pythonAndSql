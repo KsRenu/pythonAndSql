{
 "cells": [
  {
   "cell_type": "code",
   "execution_count": 1,
   "metadata": {},
   "outputs": [],
   "source": [
    "import pandas as pd"
   ]
  },
  {
   "cell_type": "code",
   "execution_count": 2,
   "metadata": {},
   "outputs": [],
   "source": [
    "filePath='/Users/Renu/Documents/pythonAndSql/greenhouse-gas-emissions-industry-and-household-december-2022-quarter.csv'\n",
    "df=pd.read_csv(filePath)"
   ]
  },
  {
   "cell_type": "code",
   "execution_count": 4,
   "metadata": {},
   "outputs": [
    {
     "data": {
      "text/html": [
       "<div>\n",
       "<style scoped>\n",
       "    .dataframe tbody tr th:only-of-type {\n",
       "        vertical-align: middle;\n",
       "    }\n",
       "\n",
       "    .dataframe tbody tr th {\n",
       "        vertical-align: top;\n",
       "    }\n",
       "\n",
       "    .dataframe thead th {\n",
       "        text-align: right;\n",
       "    }\n",
       "</style>\n",
       "<table border=\"1\" class=\"dataframe\">\n",
       "  <thead>\n",
       "    <tr style=\"text-align: right;\">\n",
       "      <th></th>\n",
       "      <th>Anzsic</th>\n",
       "      <th>Anzsic_description</th>\n",
       "      <th>Period</th>\n",
       "      <th>Data_value</th>\n",
       "      <th>Variable</th>\n",
       "      <th>Units</th>\n",
       "      <th>Gas</th>\n",
       "      <th>Status</th>\n",
       "    </tr>\n",
       "  </thead>\n",
       "  <tbody>\n",
       "    <tr>\n",
       "      <th>0</th>\n",
       "      <td>ZPZ</td>\n",
       "      <td>Primary industries</td>\n",
       "      <td>2014Q1</td>\n",
       "      <td>10907.0</td>\n",
       "      <td>Seasonally adjusted</td>\n",
       "      <td>Kilotonnes</td>\n",
       "      <td>Carbon dioxide equivalents</td>\n",
       "      <td>P</td>\n",
       "    </tr>\n",
       "    <tr>\n",
       "      <th>1</th>\n",
       "      <td>ZPZ</td>\n",
       "      <td>Primary industries</td>\n",
       "      <td>2014Q2</td>\n",
       "      <td>10763.0</td>\n",
       "      <td>Seasonally adjusted</td>\n",
       "      <td>Kilotonnes</td>\n",
       "      <td>Carbon dioxide equivalents</td>\n",
       "      <td>P</td>\n",
       "    </tr>\n",
       "    <tr>\n",
       "      <th>2</th>\n",
       "      <td>ZPZ</td>\n",
       "      <td>Primary industries</td>\n",
       "      <td>2014Q3</td>\n",
       "      <td>10713.0</td>\n",
       "      <td>Seasonally adjusted</td>\n",
       "      <td>Kilotonnes</td>\n",
       "      <td>Carbon dioxide equivalents</td>\n",
       "      <td>P</td>\n",
       "    </tr>\n",
       "    <tr>\n",
       "      <th>3</th>\n",
       "      <td>ZPZ</td>\n",
       "      <td>Primary industries</td>\n",
       "      <td>2014Q4</td>\n",
       "      <td>10705.0</td>\n",
       "      <td>Seasonally adjusted</td>\n",
       "      <td>Kilotonnes</td>\n",
       "      <td>Carbon dioxide equivalents</td>\n",
       "      <td>P</td>\n",
       "    </tr>\n",
       "    <tr>\n",
       "      <th>4</th>\n",
       "      <td>ZPZ</td>\n",
       "      <td>Primary industries</td>\n",
       "      <td>2015Q1</td>\n",
       "      <td>10644.0</td>\n",
       "      <td>Seasonally adjusted</td>\n",
       "      <td>Kilotonnes</td>\n",
       "      <td>Carbon dioxide equivalents</td>\n",
       "      <td>P</td>\n",
       "    </tr>\n",
       "  </tbody>\n",
       "</table>\n",
       "</div>"
      ],
      "text/plain": [
       "  Anzsic  Anzsic_description  Period  Data_value             Variable  \\\n",
       "0    ZPZ  Primary industries  2014Q1     10907.0  Seasonally adjusted   \n",
       "1    ZPZ  Primary industries  2014Q2     10763.0  Seasonally adjusted   \n",
       "2    ZPZ  Primary industries  2014Q3     10713.0  Seasonally adjusted   \n",
       "3    ZPZ  Primary industries  2014Q4     10705.0  Seasonally adjusted   \n",
       "4    ZPZ  Primary industries  2015Q1     10644.0  Seasonally adjusted   \n",
       "\n",
       "        Units                         Gas Status  \n",
       "0  Kilotonnes  Carbon dioxide equivalents      P  \n",
       "1  Kilotonnes  Carbon dioxide equivalents      P  \n",
       "2  Kilotonnes  Carbon dioxide equivalents      P  \n",
       "3  Kilotonnes  Carbon dioxide equivalents      P  \n",
       "4  Kilotonnes  Carbon dioxide equivalents      P  "
      ]
     },
     "execution_count": 4,
     "metadata": {},
     "output_type": "execute_result"
    }
   ],
   "source": [
    "df.head(5)"
   ]
  },
  {
   "cell_type": "code",
   "execution_count": 5,
   "metadata": {},
   "outputs": [
    {
     "name": "stdout",
     "output_type": "stream",
     "text": [
      "<class 'pandas.core.frame.DataFrame'>\n",
      "RangeIndex: 1188 entries, 0 to 1187\n",
      "Data columns (total 8 columns):\n",
      " #   Column              Non-Null Count  Dtype  \n",
      "---  ------              --------------  -----  \n",
      " 0   Anzsic              1188 non-null   object \n",
      " 1   Anzsic_description  1188 non-null   object \n",
      " 2   Period              1188 non-null   object \n",
      " 3   Data_value          1188 non-null   float64\n",
      " 4   Variable            1188 non-null   object \n",
      " 5   Units               1188 non-null   object \n",
      " 6   Gas                 1188 non-null   object \n",
      " 7   Status              1188 non-null   object \n",
      "dtypes: float64(1), object(7)\n",
      "memory usage: 74.4+ KB\n"
     ]
    }
   ],
   "source": [
    "df.info()"
   ]
  },
  {
   "cell_type": "code",
   "execution_count": 6,
   "metadata": {},
   "outputs": [
    {
     "data": {
      "text/html": [
       "<div>\n",
       "<style scoped>\n",
       "    .dataframe tbody tr th:only-of-type {\n",
       "        vertical-align: middle;\n",
       "    }\n",
       "\n",
       "    .dataframe tbody tr th {\n",
       "        vertical-align: top;\n",
       "    }\n",
       "\n",
       "    .dataframe thead th {\n",
       "        text-align: right;\n",
       "    }\n",
       "</style>\n",
       "<table border=\"1\" class=\"dataframe\">\n",
       "  <thead>\n",
       "    <tr style=\"text-align: right;\">\n",
       "      <th></th>\n",
       "      <th>Data_value</th>\n",
       "    </tr>\n",
       "  </thead>\n",
       "  <tbody>\n",
       "    <tr>\n",
       "      <th>count</th>\n",
       "      <td>1188.000000</td>\n",
       "    </tr>\n",
       "    <tr>\n",
       "      <th>mean</th>\n",
       "      <td>4710.235724</td>\n",
       "    </tr>\n",
       "    <tr>\n",
       "      <th>std</th>\n",
       "      <td>6153.100011</td>\n",
       "    </tr>\n",
       "    <tr>\n",
       "      <th>min</th>\n",
       "      <td>0.860000</td>\n",
       "    </tr>\n",
       "    <tr>\n",
       "      <th>25%</th>\n",
       "      <td>449.000000</td>\n",
       "    </tr>\n",
       "    <tr>\n",
       "      <th>50%</th>\n",
       "      <td>1990.000000</td>\n",
       "    </tr>\n",
       "    <tr>\n",
       "      <th>75%</th>\n",
       "      <td>5536.750000</td>\n",
       "    </tr>\n",
       "    <tr>\n",
       "      <th>max</th>\n",
       "      <td>22820.000000</td>\n",
       "    </tr>\n",
       "  </tbody>\n",
       "</table>\n",
       "</div>"
      ],
      "text/plain": [
       "         Data_value\n",
       "count   1188.000000\n",
       "mean    4710.235724\n",
       "std     6153.100011\n",
       "min        0.860000\n",
       "25%      449.000000\n",
       "50%     1990.000000\n",
       "75%     5536.750000\n",
       "max    22820.000000"
      ]
     },
     "execution_count": 6,
     "metadata": {},
     "output_type": "execute_result"
    }
   ],
   "source": [
    "df.describe()"
   ]
  },
  {
   "cell_type": "code",
   "execution_count": 8,
   "metadata": {},
   "outputs": [
    {
     "name": "stdout",
     "output_type": "stream",
     "text": [
      "['Anzsic', 'Anzsic_description', 'Period', 'Data_value', 'Variable', 'Units', 'Gas', 'Status']\n"
     ]
    }
   ],
   "source": [
    "columns=df.columns.tolist()\n",
    "print(columns)"
   ]
  }
 ],
 "metadata": {
  "kernelspec": {
   "display_name": "base",
   "language": "python",
   "name": "python3"
  },
  "language_info": {
   "codemirror_mode": {
    "name": "ipython",
    "version": 3
   },
   "file_extension": ".py",
   "mimetype": "text/x-python",
   "name": "python",
   "nbconvert_exporter": "python",
   "pygments_lexer": "ipython3",
   "version": "3.9.7"
  },
  "orig_nbformat": 4
 },
 "nbformat": 4,
 "nbformat_minor": 2
}

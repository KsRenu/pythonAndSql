{
 "cells": [
  {
   "cell_type": "code",
   "execution_count": 1,
   "metadata": {},
   "outputs": [],
   "source": [
    "import numpy as np\n",
    "import sys\n"
   ]
  },
  {
   "cell_type": "code",
   "execution_count": 3,
   "metadata": {},
   "outputs": [
    {
     "name": "stdout",
     "output_type": "stream",
     "text": [
      "[[ 0  1  2  3  4]\n",
      " [ 5  6  7  8  9]\n",
      " [10 11 12 13 14]]\n"
     ]
    }
   ],
   "source": [
    "a1 = np.arange(15).reshape(3,5)\n",
    "print(a1)"
   ]
  },
  {
   "cell_type": "code",
   "execution_count": 4,
   "metadata": {},
   "outputs": [
    {
     "name": "stdout",
     "output_type": "stream",
     "text": [
      "[[ 5  6  7  8  9]\n",
      " [10 11 12 13 14]\n",
      " [15 16 17 18 19]]\n",
      "[0 1 2 3 4]\n",
      "[[ 5  7  9 11 13]\n",
      " [10 12 14 16 18]\n",
      " [15 17 19 21 23]]\n",
      "[[0 1 2]\n",
      " [1 2 3]\n",
      " [2 3 4]]\n"
     ]
    }
   ],
   "source": [
    "#broadcasting:  ability of numpy to perform arithmetic operations between arrays of differenct sizes\n",
    "\n",
    "a1 = a1 +5 \n",
    "print(a1)\n",
    "\n",
    "a2 = np.arange(5)\n",
    "print(a2)\n",
    "\n",
    "print(a1+a2)\n",
    "\n",
    "a3 = np.arange(3)\n",
    "a4 = np.arange(3).reshape(3,1)\n",
    "print(a3+a4) # here both the arrays has been broadcasted"
   ]
  },
  {
   "cell_type": "code",
   "execution_count": 5,
   "metadata": {},
   "outputs": [
    {
     "name": "stdout",
     "output_type": "stream",
     "text": [
      "2\n",
      "(3, 1)\n",
      "3\n",
      "int64\n",
      "8\n",
      "<memory at 0x7f7ed8cc6860>\n"
     ]
    }
   ],
   "source": [
    "#NumPy dimensions are called axes.\n",
    "print(a4.ndim)\n",
    "print(a4.shape)\n",
    "print(a4.size)\n",
    "print(a4.dtype)\n",
    "print(a4.dtype.itemsize)\n",
    "print(a4.data)"
   ]
  },
  {
   "cell_type": "code",
   "execution_count": 6,
   "metadata": {},
   "outputs": [
    {
     "name": "stdout",
     "output_type": "stream",
     "text": [
      "[1 2 3]\n",
      "[[1 2 3]\n",
      " [1 2 3]]\n",
      "[0 0 0 0 0]\n",
      "[1 1 1 1 1]\n",
      "[0. 0. 0. 0. 0.]\n",
      "[ 1  4  7 10]\n",
      "[ 0.          1.08333333  2.16666667  3.25        4.33333333  5.41666667\n",
      "  6.5         7.58333333  8.66666667  9.75       10.83333333 11.91666667\n",
      " 13.        ]\n"
     ]
    }
   ],
   "source": [
    "#array creation\n",
    "a = np.array([1,2,3])\n",
    "print(a)\n",
    "a = np.array([(1,2,3),(1,2,3)])\n",
    "print(a)\n",
    "\n",
    "a=np.zeros(5,int)\n",
    "print(a)\n",
    "a=np.ones(5,int)\n",
    "print(a)\n",
    "\n",
    "a=np.empty(5)\n",
    "print(a)\n",
    "\n",
    "a= np.arange(1,12,3)\n",
    "print(a)\n",
    "\n",
    "a=np.linspace(0,13,13)\n",
    "print(a)"
   ]
  },
  {
   "cell_type": "code",
   "execution_count": 7,
   "metadata": {},
   "outputs": [
    {
     "name": "stdout",
     "output_type": "stream",
     "text": [
      "[[0.02336142 0.93059817 0.80140369]\n",
      " [0.02267776 0.16394595 0.73498705]]\n",
      "4950\n",
      "0\n",
      "99\n",
      "[450 460 470 480 490 500 510 520 530 540]\n",
      "[ 45 145 245 345 445 545 645 745 845 945]\n",
      "[[  0   1   3   6  10  15  21  28  36  45]\n",
      " [ 10  21  33  46  60  75  91 108 126 145]\n",
      " [ 20  41  63  86 110 135 161 188 216 245]\n",
      " [ 30  61  93 126 160 195 231 268 306 345]\n",
      " [ 40  81 123 166 210 255 301 348 396 445]\n",
      " [ 50 101 153 206 260 315 371 428 486 545]\n",
      " [ 60 121 183 246 310 375 441 508 576 645]\n",
      " [ 70 141 213 286 360 435 511 588 666 745]\n",
      " [ 80 161 243 326 410 495 581 668 756 845]\n",
      " [ 90 181 273 366 460 555 651 748 846 945]]\n",
      "[[ 0  1  2  3]\n",
      " [10 11 12 13]\n",
      " [20 21 22 23]\n",
      " [30 31 32 33]\n",
      " [40 41 42 43]]\n",
      "[ 0 10 20 30 40]\n",
      "[40 41 42 43]\n",
      "[0 1 2 3]\n",
      "[10 11 12 13]\n",
      "[20 21 22 23]\n",
      "[30 31 32 33]\n",
      "[40 41 42 43]\n",
      "0\n",
      "1\n",
      "2\n",
      "3\n",
      "10\n",
      "11\n",
      "12\n",
      "13\n",
      "20\n",
      "21\n",
      "22\n",
      "23\n",
      "30\n",
      "31\n",
      "32\n",
      "33\n",
      "40\n",
      "41\n",
      "42\n",
      "43\n"
     ]
    }
   ],
   "source": [
    "#printing array\n",
    "np.set_printoptions(threshold = sys.maxsize)\n",
    "\n",
    "a=np.arange(100).reshape(10,10)\n",
    "#print(a)\n",
    "\n",
    "print(np.random.rand(2,3))\n",
    "\n",
    "print(a.sum())\n",
    "print(a.min())\n",
    "print(a.max())\n",
    "\n",
    "print(a.sum(axis=0)) #column wise\n",
    "print(a.sum(axis=1)) #row wise\n",
    "print(a.cumsum(axis=1))\n",
    "\n",
    "def f(x, y):\n",
    "    return 10 * x + y\n",
    "b = np.fromfunction(f, (5, 4), dtype=int)\n",
    "print(b)\n",
    "print(b[0:5,0])\n",
    "print(b[-1])\n",
    "\n",
    "for i in b:\n",
    "    print(i)\n",
    "    \n",
    "for i in b.flat:\n",
    "    print(i)\n"
   ]
  },
  {
   "cell_type": "code",
   "execution_count": 8,
   "metadata": {},
   "outputs": [
    {
     "name": "stdout",
     "output_type": "stream",
     "text": [
      "[[0.50763528 0.22809628 0.26566315]\n",
      " [0.01691705 0.02332531 0.46798227]]\n",
      "[0.50763528 0.22809628 0.26566315 0.01691705 0.02332531 0.46798227]\n",
      "[[0.50763528 0.22809628]\n",
      " [0.26566315 0.01691705]\n",
      " [0.02332531 0.46798227]]\n",
      "\n",
      "[[0.50763528 0.01691705]\n",
      " [0.22809628 0.02332531]\n",
      " [0.26566315 0.46798227]]\n"
     ]
    },
    {
     "data": {
      "text/plain": [
       "array([[0.50763528, 0.22809628, 0.26566315, 0.01691705, 0.02332531,\n",
       "        0.46798227]])"
      ]
     },
     "execution_count": 8,
     "metadata": {},
     "output_type": "execute_result"
    }
   ],
   "source": [
    "#shape manipulation\n",
    "a=np.random.rand(2,3)\n",
    "print(a)\n",
    "\n",
    "#these 3 doesn't change original array\n",
    "print(a.ravel()) #flattens\n",
    "print(a.reshape(3,2)) #reshapes\n",
    "print()\n",
    "print(a.T) #transpose\n",
    "\n",
    "#change original array\n",
    "a.resize((1,6))\n",
    "a"
   ]
  },
  {
   "cell_type": "code",
   "execution_count": 9,
   "metadata": {},
   "outputs": [
    {
     "name": "stdout",
     "output_type": "stream",
     "text": [
      "[[0.14809045 0.90189519 0.8311109  0.50888139 0.98686496 0.11017672]\n",
      " [0.0758644  0.37475209 0.64785747 0.7443208  0.65270562 0.85272524]]\n",
      "[[0.14809045 0.90189519 0.8311109 ]\n",
      " [0.0758644  0.37475209 0.64785747]\n",
      " [0.50888139 0.98686496 0.11017672]\n",
      " [0.7443208  0.65270562 0.85272524]]\n",
      "[1 2 3 0 4]\n",
      "[[1 4]\n",
      " [2 5]\n",
      " [3 6]]\n"
     ]
    }
   ],
   "source": [
    "#stacking together different arrays\n",
    "a=np.random.rand(2,3)\n",
    "b=np.random.rand(2,3)\n",
    "print(np.hstack((a,b)))\n",
    "print(np.vstack((a,b)))\n",
    "\n",
    "print(np.r_[1:4,0,4])\n",
    "print(np.c_[np.array([1,2,3]), np.array([4,5,6])])"
   ]
  },
  {
   "cell_type": "code",
   "execution_count": 10,
   "metadata": {},
   "outputs": [
    {
     "data": {
      "text/plain": [
       "[array([[0.38420721, 0.71861295, 0.1257382 ],\n",
       "        [0.27959547, 0.41986502, 0.31023359]]),\n",
       " array([[0.14097383],\n",
       "        [0.37097694]]),\n",
       " array([[0.4013015 , 0.0397047 , 0.49404234, 0.09578598, 0.50339168,\n",
       "         0.40711027, 0.76828168, 0.7741458 ],\n",
       "        [0.3154711 , 0.9189042 , 0.10608216, 0.28815323, 0.43731622,\n",
       "         0.36433871, 0.67174273, 0.57889979]])]"
      ]
     },
     "execution_count": 10,
     "metadata": {},
     "output_type": "execute_result"
    }
   ],
   "source": [
    "#split\n",
    "a=np.random.rand(2,12)\n",
    "#a\n",
    "\n",
    "#np.hsplit(a,3)\n",
    "np.hsplit(a, (3, 4))"
   ]
  },
  {
   "cell_type": "code",
   "execution_count": 11,
   "metadata": {},
   "outputs": [
    {
     "name": "stdout",
     "output_type": "stream",
     "text": [
      "a:  [[0.94689007 0.61817714 0.06985698 0.19602328 0.04146226 0.45268638\n",
      "  0.7997261  0.26277594 0.15164436 0.80605731 0.95514049 0.6402591 ]\n",
      " [0.87792742 0.96691943 0.5539068  0.22061604 0.48537974 0.59250112\n",
      "  0.80715225 0.02356692 0.60994394 0.05465858 0.33537136 0.99704896]]\n",
      "24\n",
      "140182243420560 140182243420560\n",
      "140182243420944 140182243420560\n",
      "[[9.46890073e-01 6.18177136e-01 6.98569770e-02 1.96023279e-01\n",
      "  1.23400000e+03 4.52686383e-01 7.99726105e-01 2.62775938e-01\n",
      "  1.51644360e-01 8.06057314e-01 9.55140495e-01 6.40259099e-01]\n",
      " [8.77927415e-01 9.66919427e-01 5.53906797e-01 2.20616035e-01\n",
      "  4.85379737e-01 5.92501118e-01 8.07152254e-01 2.35669247e-02\n",
      "  6.09943936e-01 5.46585797e-02 3.35371362e-01 9.97048965e-01]]\n",
      "[[0.61817714 0.06985698]\n",
      " [0.96691943 0.5539068 ]]\n",
      "24\n",
      "(2, 12)\n",
      "[[1.00000000e+03 1.00000000e+01 1.00000000e+01 1.96023279e-01\n",
      "  1.23400000e+03 4.52686383e-01 7.99726105e-01 2.62775938e-01\n",
      "  1.51644360e-01 8.06057314e-01 9.55140495e-01 6.40259099e-01]\n",
      " [8.77927415e-01 1.00000000e+01 1.00000000e+01 2.20616035e-01\n",
      "  4.85379737e-01 5.92501118e-01 8.07152254e-01 2.35669247e-02\n",
      "  6.09943936e-01 5.46585797e-02 3.35371362e-01 9.97048965e-01]]\n",
      "[[9.46890073e-01 1.00000000e+01 1.00000000e+01 1.96023279e-01\n",
      "  1.23400000e+03 4.52686383e-01 7.99726105e-01 2.62775938e-01\n",
      "  1.51644360e-01 8.06057314e-01 9.55140495e-01 6.40259099e-01]\n",
      " [8.77927415e-01 1.00000000e+01 1.00000000e+01 2.20616035e-01\n",
      "  4.85379737e-01 5.92501118e-01 8.07152254e-01 2.35669247e-02\n",
      "  6.09943936e-01 5.46585797e-02 3.35371362e-01 9.97048965e-01]]\n"
     ]
    }
   ],
   "source": [
    "#copies and views\n",
    "a=np.random.rand(2,12)\n",
    "print('a: ',a)\n",
    "b=a\n",
    "print(a.size)\n",
    "print(id(a),id(b)) #no cpoy at all as python passes mutable objects as refernces\n",
    "\n",
    "\n",
    "#shallow copy - different address still data changes when changed in one\n",
    "c=a.view()\n",
    "print(id(c),id(a))\n",
    "c.flags.owndata\n",
    "c.base is a\n",
    "c[0,4]=1234\n",
    "print(a)\n",
    "#slicing\n",
    "s=a[:,1:3]\n",
    "print(s)\n",
    "s[:] = 10\n",
    "print(a.size)\n",
    "print(a.shape)\n",
    "\n",
    "\n",
    "#deep copy\n",
    "d=a.copy()\n",
    "d[0,0]=1000\n",
    "print(d)\n",
    "print(a)"
   ]
  },
  {
   "cell_type": "code",
   "execution_count": 27,
   "metadata": {},
   "outputs": [
    {
     "name": "stdout",
     "output_type": "stream",
     "text": [
      "[[1 2 3]\n",
      " [4 5 6]]\n",
      "[[1. 0. 0. 0. 0.]\n",
      " [0. 1. 0. 0. 0.]\n",
      " [0. 0. 1. 0. 0.]\n",
      " [0. 0. 0. 1. 0.]\n",
      " [0. 0. 0. 0. 1.]]\n",
      "[  0   1   4   9  16  25  36  49  64  81 100 121]\n",
      "[ 1  1  9 64 25]\n",
      "[[ 9 16]\n",
      " [81 49]]\n",
      "[[ 0  1  2  3]\n",
      " [ 4  5  6  7]\n",
      " [ 8  9 10 11]]\n",
      "[[ 2  5]\n",
      " [ 7 11]]\n",
      "[[ 2  6]\n",
      " [ 6 10]]\n",
      "[[0 1 2 3]\n",
      " [0 0 0 0]\n",
      " [0 0 0 0]]\n",
      "[[0 1 2 3]\n",
      " [4 0 0 0]\n",
      " [0 0 0 0]]\n"
     ]
    }
   ],
   "source": [
    "#functions and methods\n",
    "a = ([1,2,3], [4,5,6])    \n",
    "print(np.empty_like(a))\n",
    "\n",
    "print(np.eye(5))\n",
    "\n",
    "#arrays can be indexed by arrays of integers and arrays of booleans.\n",
    "a = np.arange(12)**2\n",
    "print(a)\n",
    "i = np.array([1, 1, 3, 8, 5])\n",
    "print(a[i])\n",
    "j = np.array([[3, 4], [9, 7]]) \n",
    "print(a[j])\n",
    "\n",
    "#We can also give indexes for more than one dimension. The arrays of indices for each dimension must have the same shape.\n",
    "a = np.arange(12).reshape(3, 4)\n",
    "print(a)\n",
    "i = np.array([[0, 1],  # indices for the first dim of `a`\n",
    "              [1, 2]])\n",
    "j = np.array([[2, 1],  # indices for the second dim\n",
    "              [3, 3]])\n",
    "\n",
    "print(a[i,j])\n",
    "print(a[i, 2])\n",
    "\n",
    "a[[1, 2]] = 0\n",
    "print(a)\n",
    "\n",
    "a = np.arange(12).reshape(3, 4)\n",
    "b = a > 4\n",
    "a[b] = 0 \n",
    "print(a)\n"
   ]
  },
  {
   "cell_type": "code",
   "execution_count": 29,
   "metadata": {},
   "outputs": [
    {
     "name": "stdout",
     "output_type": "stream",
     "text": [
      "[[ 0  1  2  3]\n",
      " [ 4  5  6  7]\n",
      " [ 8  9 10 11]]\n"
     ]
    },
    {
     "data": {
      "text/plain": [
       "array([[ 4,  5,  6,  7],\n",
       "       [ 8,  9, 10, 11]])"
      ]
     },
     "execution_count": 29,
     "metadata": {},
     "output_type": "execute_result"
    }
   ],
   "source": [
    "a = np.arange(12).reshape(3, 4)\n",
    "print(a)\n",
    "b1 = np.array([False, True, True])         # first dim selection\n",
    "b2 = np.array([True, False, True, False])  # second dim selection\n",
    "\n",
    "a[b1, :]              "
   ]
  },
  {
   "cell_type": "code",
   "execution_count": 31,
   "metadata": {},
   "outputs": [
    {
     "data": {
      "text/plain": [
       "[<matplotlib.lines.Line2D at 0x7f7ed9a5b970>]"
      ]
     },
     "execution_count": 31,
     "metadata": {},
     "output_type": "execute_result"
    },
    {
     "data": {
      "image/png": "[encoded data removed]",
      "text/plain": [
       "<Figure size 432x288 with 1 Axes>"
      ]
     },
     "metadata": {
      "needs_background": "light"
     },
     "output_type": "display_data"
    }
   ],
   "source": [
    "import numpy as np\n",
    "rg = np.random.default_rng(1)\n",
    "import matplotlib.pyplot as plt\n",
    "# Build a vector of 10000 normal deviates with variance 0.5^2 and mean 2\n",
    "mu, sigma = 2, 0.5\n",
    "v = rg.normal(mu, sigma, 10000)\n",
    "# Plot a normalized histogram with 50 bins\n",
    "plt.hist(v, bins=50, density=True)       # matplotlib version (plot)\n",
    "# Compute the histogram with numpy and then plot it\n",
    "(n, bins) = np.histogram(v, bins=50, density=True)  # NumPy version (no plot)\n",
    "plt.plot(.5 * (bins[1:] + bins[:-1]), n) "
   ]
  },
  {
   "cell_type": "code",
   "execution_count": null,
   "metadata": {},
   "outputs": [],
   "source": []
  }
 ],
 "metadata": {
  "kernelspec": {
   "display_name": "Python 3",
   "language": "python",
   "name": "python3"
  },
  "language_info": {
   "codemirror_mode": {
    "name": "ipython",
    "version": 3
   },
   "file_extension": ".py",
   "mimetype": "text/x-python",
   "name": "python",
   "nbconvert_exporter": "python",
   "pygments_lexer": "ipython3",
   "version": "3.9.7"
  },
  "orig_nbformat": 4
 },
 "nbformat": 4,
 "nbformat_minor": 2
}

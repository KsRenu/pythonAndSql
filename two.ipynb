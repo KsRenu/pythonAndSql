{
 "cells": [
  {
   "cell_type": "code",
   "execution_count": 40,
   "metadata": {},
   "outputs": [],
   "source": [
    "import numpy as np\n",
    "import sys"
   ]
  },
  {
   "cell_type": "code",
   "execution_count": 29,
   "metadata": {},
   "outputs": [
    {
     "name": "stdout",
     "output_type": "stream",
     "text": [
      "[[ 0  1  2  3  4]\n",
      " [ 5  6  7  8  9]\n",
      " [10 11 12 13 14]]\n"
     ]
    }
   ],
   "source": [
    "a1 = arange(15).reshape(3,5)\n",
    "print(a1)"
   ]
  },
  {
   "cell_type": "code",
   "execution_count": 9,
   "metadata": {},
   "outputs": [
    {
     "name": "stdout",
     "output_type": "stream",
     "text": [
      "[[20 21 22 23 24]\n",
      " [25 26 27 28 29]\n",
      " [30 31 32 33 34]]\n",
      "[0 1 2 3 4]\n",
      "[[20 22 24 26 28]\n",
      " [25 27 29 31 33]\n",
      " [30 32 34 36 38]]\n",
      "[[0 1 2]\n",
      " [1 2 3]\n",
      " [2 3 4]]\n"
     ]
    }
   ],
   "source": [
    "#broadcasting:  ability of numpy to perform arithmetic operations between arrays of differenct sizes\n",
    "\n",
    "a1 = a1 +5 \n",
    "print(a1)\n",
    "\n",
    "a2 = arange(5)\n",
    "print(a2)\n",
    "\n",
    "print(a1+a2)\n",
    "\n",
    "a3 = arange(3)\n",
    "a4 = arange(3).reshape(3,1)\n",
    "print(a3+a4) # here both the arrays has been broadcasted"
   ]
  },
  {
   "cell_type": "code",
   "execution_count": 19,
   "metadata": {},
   "outputs": [
    {
     "name": "stdout",
     "output_type": "stream",
     "text": [
      "2\n",
      "(3, 1)\n",
      "3\n",
      "int32\n",
      "4\n",
      "<memory at 0x0000016564A668E0>\n"
     ]
    }
   ],
   "source": [
    "#NumPy dimensions are called axes.\n",
    "print(a4.ndim)\n",
    "print(a4.shape)\n",
    "print(a4.size)\n",
    "print(a4.dtype)\n",
    "print(a4.dtype.itemsize)\n",
    "print(a4.data)"
   ]
  },
  {
   "cell_type": "code",
   "execution_count": 33,
   "metadata": {},
   "outputs": [
    {
     "name": "stdout",
     "output_type": "stream",
     "text": [
      "[1 2 3]\n",
      "[[1 2 3]\n",
      " [1 2 3]]\n",
      "[0 0 0 0 0]\n",
      "[1 1 1 1 1]\n",
      "[0. 0. 0. 0. 0.]\n",
      "[ 1  4  7 10]\n",
      "[ 0.          1.08333333  2.16666667  3.25        4.33333333  5.41666667\n",
      "  6.5         7.58333333  8.66666667  9.75       10.83333333 11.91666667\n",
      " 13.        ]\n"
     ]
    }
   ],
   "source": [
    "#array creation\n",
    "a = array([1,2,3])\n",
    "print(a)\n",
    "a = array([(1,2,3),(1,2,3)])\n",
    "print(a)\n",
    "\n",
    "a=zeros(5,int)\n",
    "print(a)\n",
    "a=ones(5,int)\n",
    "print(a)\n",
    "\n",
    "a=empty(5)\n",
    "print(a)\n",
    "\n",
    "a= arange(1,12,3)\n",
    "print(a)\n",
    "\n",
    "a=linspace(0,13,13)\n",
    "print(a)"
   ]
  },
  {
   "cell_type": "code",
   "execution_count": 60,
   "metadata": {},
   "outputs": [
    {
     "name": "stdout",
     "output_type": "stream",
     "text": [
      "[[0.79838117 0.63474553 0.03658697]\n",
      " [0.07276364 0.27192315 0.29698773]]\n",
      "4950\n",
      "0\n",
      "99\n",
      "[450 460 470 480 490 500 510 520 530 540]\n",
      "[ 45 145 245 345 445 545 645 745 845 945]\n",
      "[[  0   1   3   6  10  15  21  28  36  45]\n",
      " [ 10  21  33  46  60  75  91 108 126 145]\n",
      " [ 20  41  63  86 110 135 161 188 216 245]\n",
      " [ 30  61  93 126 160 195 231 268 306 345]\n",
      " [ 40  81 123 166 210 255 301 348 396 445]\n",
      " [ 50 101 153 206 260 315 371 428 486 545]\n",
      " [ 60 121 183 246 310 375 441 508 576 645]\n",
      " [ 70 141 213 286 360 435 511 588 666 745]\n",
      " [ 80 161 243 326 410 495 581 668 756 845]\n",
      " [ 90 181 273 366 460 555 651 748 846 945]]\n",
      "[[ 0  1  2  3]\n",
      " [10 11 12 13]\n",
      " [20 21 22 23]\n",
      " [30 31 32 33]\n",
      " [40 41 42 43]]\n",
      "[ 0 10 20 30 40]\n",
      "[40 41 42 43]\n",
      "[0 1 2 3]\n",
      "[10 11 12 13]\n",
      "[20 21 22 23]\n",
      "[30 31 32 33]\n",
      "[40 41 42 43]\n",
      "0\n",
      "1\n",
      "2\n",
      "3\n",
      "10\n",
      "11\n",
      "12\n",
      "13\n",
      "20\n",
      "21\n",
      "22\n",
      "23\n",
      "30\n",
      "31\n",
      "32\n",
      "33\n",
      "40\n",
      "41\n",
      "42\n",
      "43\n"
     ]
    }
   ],
   "source": [
    "#printing array\n",
    "np.set_printoptions(threshold = sys.maxsize)\n",
    "\n",
    "a=arange(100).reshape(10,10)\n",
    "#print(a)\n",
    "\n",
    "print(np.random.rand(2,3))\n",
    "\n",
    "print(a.sum())\n",
    "print(a.min())\n",
    "print(a.max())\n",
    "\n",
    "print(a.sum(axis=0)) #column wise\n",
    "print(a.sum(axis=1)) #row wise\n",
    "print(a.cumsum(axis=1))\n",
    "\n",
    "def f(x, y):\n",
    "    return 10 * x + y\n",
    "b = np.fromfunction(f, (5, 4), dtype=int)\n",
    "print(b)\n",
    "print(b[0:5,0])\n",
    "print(b[-1])\n",
    "\n",
    "for i in b:\n",
    "    print(i)\n",
    "    \n",
    "for i in b.flat:\n",
    "    print(i)\n"
   ]
  },
  {
   "cell_type": "code",
   "execution_count": 69,
   "metadata": {},
   "outputs": [
    {
     "name": "stdout",
     "output_type": "stream",
     "text": [
      "[[0.96769746 0.39717459 0.42456749]\n",
      " [0.57975687 0.05371055 0.03105755]]\n",
      "[0.96769746 0.39717459 0.42456749 0.57975687 0.05371055 0.03105755]\n",
      "[[0.96769746 0.39717459]\n",
      " [0.42456749 0.57975687]\n",
      " [0.05371055 0.03105755]]\n",
      "\n",
      "[[0.96769746 0.57975687]\n",
      " [0.39717459 0.05371055]\n",
      " [0.42456749 0.03105755]]\n"
     ]
    },
    {
     "data": {
      "text/plain": [
       "array([[0.96769746, 0.39717459, 0.42456749, 0.57975687, 0.05371055,\n",
       "        0.03105755]])"
      ]
     },
     "execution_count": 69,
     "metadata": {},
     "output_type": "execute_result"
    }
   ],
   "source": [
    "#shape manipulation\n",
    "a=random.rand(2,3)\n",
    "print(a)\n",
    "\n",
    "#these 3 doesn't change original array\n",
    "print(a.ravel()) #flattens\n",
    "print(a.reshape(3,2)) #reshapes\n",
    "print()\n",
    "print(a.T) #transpose\n",
    "\n",
    "#change original array\n",
    "a.resize((1,6))\n",
    "a"
   ]
  },
  {
   "cell_type": "code",
   "execution_count": 80,
   "metadata": {},
   "outputs": [
    {
     "name": "stdout",
     "output_type": "stream",
     "text": [
      "[[0.47546397 0.20391773 0.31536311 0.91210919 0.89832311 0.25052101]\n",
      " [0.74801482 0.05008206 0.64089488 0.56230425 0.91456782 0.69667291]]\n",
      "[[0.47546397 0.20391773 0.31536311]\n",
      " [0.74801482 0.05008206 0.64089488]\n",
      " [0.91210919 0.89832311 0.25052101]\n",
      " [0.56230425 0.91456782 0.69667291]]\n",
      "[1 2 3 0 4]\n",
      "[[1 4]\n",
      " [2 5]\n",
      " [3 6]]\n"
     ]
    }
   ],
   "source": [
    "#stacking together different arrays\n",
    "a=random.rand(2,3)\n",
    "b=random.rand(2,3)\n",
    "print(np.hstack((a,b)))\n",
    "print(np.vstack((a,b)))\n",
    "\n",
    "print(np.r_[1:4,0,4])\n",
    "print(np.c_[np.array([1,2,3]), np.array([4,5,6])])"
   ]
  },
  {
   "cell_type": "code",
   "execution_count": 86,
   "metadata": {},
   "outputs": [
    {
     "data": {
      "text/plain": [
       "[array([[0.05000788, 0.16861315, 0.88320526],\n",
       "        [0.09394994, 0.34992352, 0.22172508]]),\n",
       " array([[0.35972131],\n",
       "        [0.42779599]]),\n",
       " array([[0.94144822, 0.05019934, 0.02149445, 0.9030481 , 0.45087506,\n",
       "         0.91676528, 0.1682922 , 0.6596495 ],\n",
       "        [0.58455203, 0.96346381, 0.83163425, 0.17770897, 0.37742064,\n",
       "         0.23297687, 0.08446954, 0.87689609]])]"
      ]
     },
     "execution_count": 86,
     "metadata": {},
     "output_type": "execute_result"
    }
   ],
   "source": [
    "#split\n",
    "a=random.rand(2,12)\n",
    "#a\n",
    "\n",
    "#np.hsplit(a,3)\n",
    "np.hsplit(a, (3, 4))"
   ]
  },
  {
   "cell_type": "code",
   "execution_count": 107,
   "metadata": {},
   "outputs": [
    {
     "name": "stdout",
     "output_type": "stream",
     "text": [
      "a:  [[0.52096477 0.48153844 0.21243747 0.83771278 0.34669501 0.89193872\n",
      "  0.21274257 0.69756504 0.31544713 0.76462852 0.57841589 0.97221824]\n",
      " [0.35897569 0.34223398 0.34445083 0.61232676 0.19544319 0.85100236\n",
      "  0.05089238 0.93690377 0.82358389 0.64779429 0.05016972 0.91059181]]\n",
      "24\n",
      "1534992519728 1534992519728\n",
      "1534995377744 1534992519728\n",
      "[[5.20964767e-01 4.81538439e-01 2.12437474e-01 8.37712784e-01\n",
      "  1.23400000e+03 8.91938719e-01 2.12742567e-01 6.97565039e-01\n",
      "  3.15447127e-01 7.64628519e-01 5.78415891e-01 9.72218242e-01]\n",
      " [3.58975690e-01 3.42233980e-01 3.44450826e-01 6.12326764e-01\n",
      "  1.95443186e-01 8.51002361e-01 5.08923821e-02 9.36903771e-01\n",
      "  8.23583888e-01 6.47794292e-01 5.01697245e-02 9.10591811e-01]]\n",
      "[[0.48153844 0.21243747]\n",
      " [0.34223398 0.34445083]]\n",
      "24\n",
      "(2, 12)\n",
      "[[1.00000000e+03 1.00000000e+01 1.00000000e+01 8.37712784e-01\n",
      "  1.23400000e+03 8.91938719e-01 2.12742567e-01 6.97565039e-01\n",
      "  3.15447127e-01 7.64628519e-01 5.78415891e-01 9.72218242e-01]\n",
      " [3.58975690e-01 1.00000000e+01 1.00000000e+01 6.12326764e-01\n",
      "  1.95443186e-01 8.51002361e-01 5.08923821e-02 9.36903771e-01\n",
      "  8.23583888e-01 6.47794292e-01 5.01697245e-02 9.10591811e-01]]\n",
      "[[5.20964767e-01 1.00000000e+01 1.00000000e+01 8.37712784e-01\n",
      "  1.23400000e+03 8.91938719e-01 2.12742567e-01 6.97565039e-01\n",
      "  3.15447127e-01 7.64628519e-01 5.78415891e-01 9.72218242e-01]\n",
      " [3.58975690e-01 1.00000000e+01 1.00000000e+01 6.12326764e-01\n",
      "  1.95443186e-01 8.51002361e-01 5.08923821e-02 9.36903771e-01\n",
      "  8.23583888e-01 6.47794292e-01 5.01697245e-02 9.10591811e-01]]\n"
     ]
    }
   ],
   "source": [
    "#copies and views\n",
    "a=random.rand(2,12)\n",
    "print('a: ',a)\n",
    "b=a\n",
    "print(a.size)\n",
    "print(id(a),id(b)) #no cpoy at all as python passes mutable objects as refernces\n",
    "\n",
    "\n",
    "#shallow copy - different address still data changes when changed in one\n",
    "c=a.view()\n",
    "print(id(c),id(a))\n",
    "c.flags.owndata\n",
    "c.base is a\n",
    "c[0,4]=1234\n",
    "print(a)\n",
    "#slicing\n",
    "s=a[:,1:3]\n",
    "print(s)\n",
    "s[:] = 10\n",
    "print(a.size)\n",
    "print(a.shape)\n",
    "\n",
    "\n",
    "#deep copy\n",
    "d=a.copy()\n",
    "d[0,0]=1000\n",
    "print(d)\n",
    "print(a)"
   ]
  }
 ],
 "metadata": {
  "kernelspec": {
   "display_name": "Python 3",
   "language": "python",
   "name": "python3"
  },
  "language_info": {
   "codemirror_mode": {
    "name": "ipython",
    "version": 3
   },
   "file_extension": ".py",
   "mimetype": "text/x-python",
   "name": "python",
   "nbconvert_exporter": "python",
   "pygments_lexer": "ipython3",
   "version": "3.11.4"
  },
  "orig_nbformat": 4
 },
 "nbformat": 4,
 "nbformat_minor": 2
}

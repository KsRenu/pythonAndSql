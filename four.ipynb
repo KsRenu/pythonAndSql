{
 "cells": [
  {
   "cell_type": "code",
   "execution_count": 1,
   "metadata": {},
   "outputs": [],
   "source": [
    "#python"
   ]
  },
  {
   "cell_type": "code",
   "execution_count": 6,
   "metadata": {},
   "outputs": [
    {
     "name": "stdout",
     "output_type": "stream",
     "text": [
      "[1, 1, 2, 3, 4, 5]\n",
      "[1, 2, 3, 4, 5]\n",
      "[1, 3, 4, 5]\n",
      "[1, 3]\n"
     ]
    }
   ],
   "source": [
    "l=[1,2,3,4,5]\n",
    "l.insert(1,1)\n",
    "print(l)\n",
    "l.remove(1)\n",
    "print(l)\n",
    "l.pop(1)\n",
    "print(l)\n",
    "del l[2:]\n",
    "print(l)"
   ]
  },
  {
   "cell_type": "code",
   "execution_count": 1,
   "metadata": {},
   "outputs": [
    {
     "name": "stdout",
     "output_type": "stream",
     "text": [
      "After local assignment: test spam\n",
      "After nonlocal assignment: nonlocal spam\n",
      "After global assignment: nonlocal spam\n",
      "In global scope: global spam\n"
     ]
    }
   ],
   "source": [
    "def scope_test():\n",
    "    def do_local():\n",
    "        spam = \"local spam\"\n",
    "\n",
    "    def do_nonlocal():\n",
    "        nonlocal spam\n",
    "        spam = \"nonlocal spam\"\n",
    "\n",
    "    def do_global():\n",
    "        global spam\n",
    "        spam = \"global spam\"\n",
    "\n",
    "    spam = \"test spam\"\n",
    "    do_local()\n",
    "    print(\"After local assignment:\", spam)\n",
    "    do_nonlocal()\n",
    "    print(\"After nonlocal assignment:\", spam)\n",
    "    do_global()\n",
    "    print(\"After global assignment:\", spam)\n",
    "\n",
    "scope_test()\n",
    "print(\"In global scope:\", spam)"
   ]
  },
  {
   "cell_type": "code",
   "execution_count": 28,
   "metadata": {},
   "outputs": [
    {
     "name": "stdout",
     "output_type": "stream",
     "text": [
      "inside fun1-a hey\n",
      "inside b init\n",
      "insdie fun2 hey\n"
     ]
    }
   ],
   "source": [
    "#Method resolution order\n",
    "class A:\n",
    "    def __init__(self,name):\n",
    "        print('inside a init')\n",
    "        self.name=name\n",
    "\n",
    "    def fun1(self,name):\n",
    "        print('inside fun1-a',self.name)\n",
    "\n",
    "    \n",
    "\n",
    "class B(A):\n",
    "    def __init__(self,name2):\n",
    "        self.name2 = name2\n",
    "        #super().__init__(self.name2)\n",
    "        self.name=name2\n",
    "        super().fun1(self.name)\n",
    "        print('inside b init')\n",
    "        \n",
    "        \n",
    "\n",
    "    def fun1(self,name2):\n",
    "        print('insdie fun2',self.name2)\n",
    "\n",
    "a=B('hey')\n",
    "a.fun1('hello')"
   ]
  },
  {
   "cell_type": "code",
   "execution_count": null,
   "metadata": {},
   "outputs": [],
   "source": [
    "#polymorphism - duck typing,operator overloading, method overloading, method overriding\n",
    "\n",
    "#def __str__():\n",
    "# __add__()\n",
    "# __sub__()\n",
    "# __gt__()\n",
    "# __ge__()\n",
    "\n",
    "#method overloading same class, same name diff para not in python\n",
    "\n"
   ]
  }
 ],
 "metadata": {
  "kernelspec": {
   "display_name": "base",
   "language": "python",
   "name": "python3"
  },
  "language_info": {
   "codemirror_mode": {
    "name": "ipython",
    "version": 3
   },
   "file_extension": ".py",
   "mimetype": "text/x-python",
   "name": "python",
   "nbconvert_exporter": "python",
   "pygments_lexer": "ipython3",
   "version": "3.9.7"
  },
  "orig_nbformat": 4
 },
 "nbformat": 4,
 "nbformat_minor": 2
}

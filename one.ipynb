{
 "cells": [
  {
   "cell_type": "code",
   "execution_count": 2,
   "id": "118a4f36",
   "metadata": {},
   "outputs": [],
   "source": [
    "# Python Interview Topics:\n",
    "# Datatypes\n",
    "# Lists, Arrays, Dictionaries and Tuples\n",
    "# Slicing\n",
    "# Lambda functions\n",
    "# Numpy \n",
    "# Multithreading\n",
    "# Decorators"
   ]
  },
  {
   "cell_type": "code",
   "execution_count": 3,
   "id": "aa5543ad",
   "metadata": {},
   "outputs": [
    {
     "name": "stdout",
     "output_type": "stream",
     "text": [
      "odd\n",
      "renu\n"
     ]
    },
    {
     "ename": "NameError",
     "evalue": "name 's' is not defined",
     "output_type": "error",
     "traceback": [
      "\u001b[1;31m---------------------------------------------------------------------------\u001b[0m",
      "\u001b[1;31mNameError\u001b[0m                                 Traceback (most recent call last)",
      "Cell \u001b[1;32mIn[3], line 8\u001b[0m\n\u001b[0;32m      5\u001b[0m \u001b[39mprint\u001b[39m(filter_num(\u001b[39m\"\u001b[39m\u001b[39mrenu05\u001b[39m\u001b[39m\"\u001b[39m))\n\u001b[0;32m      7\u001b[0m ex \u001b[39m=\u001b[39m \u001b[39mlambda\u001b[39;00m s: s\u001b[39m+\u001b[39m\u001b[39m'\u001b[39m\u001b[39m!\u001b[39m\u001b[39m'\u001b[39m\n\u001b[1;32m----> 8\u001b[0m \u001b[39mprint\u001b[39m(ex(\u001b[39m\"\u001b[39m\u001b[39mhey\u001b[39m\u001b[39m\"\u001b[39m),s,\u001b[39m\"\u001b[39m\u001b[39msucess\u001b[39m\u001b[39m\"\u001b[39m)\n\u001b[0;32m     12\u001b[0m l \u001b[39m=\u001b[39m [\u001b[39m\"\u001b[39m\u001b[39m1\u001b[39m\u001b[39m\"\u001b[39m, \u001b[39m\"\u001b[39m\u001b[39m2\u001b[39m\u001b[39m\"\u001b[39m, \u001b[39m\"\u001b[39m\u001b[39m9\u001b[39m\u001b[39m\"\u001b[39m, \u001b[39m\"\u001b[39m\u001b[39m0\u001b[39m\u001b[39m\"\u001b[39m, \u001b[39m\"\u001b[39m\u001b[39m-1\u001b[39m\u001b[39m\"\u001b[39m, \u001b[39m\"\u001b[39m\u001b[39m-2\u001b[39m\u001b[39m\"\u001b[39m]\n\u001b[0;32m     13\u001b[0m \u001b[39mprint\u001b[39m(\u001b[39msorted\u001b[39m(l, key \u001b[39m=\u001b[39m \u001b[39mlambda\u001b[39;00m x: \u001b[39mint\u001b[39m(x),reverse \u001b[39m=\u001b[39m \u001b[39mTrue\u001b[39;00m))\n",
      "\u001b[1;31mNameError\u001b[0m: name 's' is not defined"
     ]
    }
   ],
   "source": [
    "calc = lambda num:\"even\" if num%2 ==0 else \"odd\"\n",
    "print(calc(3))\n",
    "\n",
    "filter_num = lambda s: ''.join([ch for ch in s if not ch.isdigit()])\n",
    "print(filter_num(\"renu05\"))\n",
    "\n",
    "ex = lambda s: s+'!'\n",
    "print(ex(\"hey\"),s,\"sucess\")\n",
    "\n",
    "\n",
    "\n",
    "l = [\"1\", \"2\", \"9\", \"0\", \"-1\", \"-2\"]\n",
    "print(sorted(l, key = lambda x: int(x),reverse = True))\n",
    "\n",
    "sq = lambda x: x*x\n",
    "print(sq(2))\n",
    "\n",
    "add = lambda x,y : x+y\n",
    "print(add(7,8))"
   ]
  },
  {
   "cell_type": "code",
   "execution_count": null,
   "id": "062c682e",
   "metadata": {},
   "outputs": [
    {
     "name": "stdout",
     "output_type": "stream",
     "text": [
      "x:  [2, 4, 4, 2, 4, 2]\n",
      "Map:  [4, 6, 6, 4, 6, 4]\n",
      "red:  30\n"
     ]
    }
   ],
   "source": [
    "\n",
    "#filter, map, reduce\n",
    "from functools import reduce\n",
    "\n",
    "l=[1,2,3,4,3,4,3,5,3,2,4,2,3]\n",
    "fil = list(filter(lambda x: x%2==0,l))\n",
    "print(\"x: \",fil)\n",
    "maps = list(map(lambda x: x+2, fil))\n",
    "print(\"Map: \", maps)\n",
    "red = reduce(lambda x,y: x+y,maps)\n",
    "print(\"red: \", red)"
   ]
  },
  {
   "cell_type": "code",
   "execution_count": null,
   "id": "60eaf14b",
   "metadata": {},
   "outputs": [
    {
     "data": {
      "text/plain": [
       "3.0"
      ]
     },
     "execution_count": 70,
     "metadata": {},
     "output_type": "execute_result"
    }
   ],
   "source": [
    "#decorators : adding extra features to the existing function\n",
    "\n",
    "def div(a,b):\n",
    "    return a/b\n",
    "\n",
    "def smart_div(fun):\n",
    "    \n",
    "    def inner(a,b):\n",
    "        if a<b :\n",
    "            a,b = b,a\n",
    "        return fun(a,b)\n",
    "    return inner\n",
    "\n",
    "\n",
    "div = smart_div(div)\n",
    "div(2,6)"
   ]
  },
  {
   "cell_type": "code",
   "execution_count": null,
   "id": "81e76d00",
   "metadata": {},
   "outputs": [
    {
     "name": "stdout",
     "output_type": "stream",
     "text": [
      "hello\n",
      "hi\n",
      "hello\n",
      "hi\n",
      "hello\n",
      "hi\n",
      "hello\n",
      "hi\n",
      "hello\n",
      "hi\n",
      "bye\n"
     ]
    }
   ],
   "source": [
    "#threads = break down big process into small process\n",
    "\n",
    "from threading import *\n",
    "from time import sleep\n",
    "\n",
    "class Hello(Thread):\n",
    "    def run(self):\n",
    "        for i in range(5):\n",
    "            print(\"hello\")\n",
    "            sleep(1)\n",
    "            \n",
    "class Hi(Thread):\n",
    "    def run(self):\n",
    "        for i in range(5):\n",
    "            print(\"hi\")\n",
    "            sleep(1)\n",
    "            \n",
    "            \n",
    "t1 = Hello()\n",
    "t2 = Hi()\n",
    "\n",
    "t1.start()\n",
    "sleep(0.2)\n",
    "t2.start()\n",
    "\n",
    "t1.join()\n",
    "t2.join()\n",
    "\n",
    "print(\"bye\")"
   ]
  },
  {
   "cell_type": "code",
   "execution_count": null,
   "id": "62d2816f",
   "metadata": {},
   "outputs": [
    {
     "name": "stdout",
     "output_type": "stream",
     "text": [
      "array('i', [1, 4, 3, 23, 90])\n"
     ]
    }
   ],
   "source": [
    "from array import *\n",
    "\n",
    "x = array('i',[1,4,3,23,90])\n",
    "y=array(x.typecode,(a for a in x))\n",
    "print(y)"
   ]
  },
  {
   "cell_type": "code",
   "execution_count": null,
   "id": "f27bbda3",
   "metadata": {},
   "outputs": [
    {
     "name": "stdout",
     "output_type": "stream",
     "text": [
      "[1 2 3 4 5]int32\n",
      "[2. 3. 4. 5.]float64\n",
      "[ 0.      0.9375  1.875   2.8125  3.75    4.6875  5.625   6.5625  7.5\n",
      "  8.4375  9.375  10.3125 11.25   12.1875 13.125  14.0625 15.    ]\n",
      "17\n",
      "[1 3 5 7 9]\n",
      "[1.00000000e+01 5.62341325e+10 3.16227766e+20 1.77827941e+30\n",
      " 1.00000000e+40]\n",
      "3.1622776601683794e+20\n",
      "316227766016837943296.00\n",
      "[0 0 0 0 0 0 0 0 0 0]\n",
      "[1 1 1 1 1 1 1 1 1 1]\n",
      "[6 6 6 6 6 6 6 6 6 6]\n",
      "[6 6 6 6 6 6 6 6 6 6]\n",
      "[1 1 1 1 1 1 1 1 1 1]\n",
      "[0.84147098 0.84147098 0.84147098 0.84147098 0.84147098 0.84147098\n",
      " 0.84147098 0.84147098 0.84147098 0.84147098]\n",
      "[2.44948974 2.44948974 2.44948974 2.44948974 2.44948974 2.44948974\n",
      " 2.44948974 2.44948974 2.44948974 2.44948974]\n",
      "[0 0 0 0 0 0 0 0 0 0 1 1 1 1 1 1 1 1 1 1]\n",
      "2301573650768\n",
      "2301573650768\n",
      "2301566036624\n",
      "2301573261104\n",
      "[0 0 1 0 0 0 0 0 0 0]\n",
      "[0 0 0 0 0 0 0 0 0 0]\n"
     ]
    }
   ],
   "source": [
    "from numpy import *\n",
    "\n",
    "#six ways to create array : array, linespace,logspace,arrange,zeros,ones\n",
    "a1=array([1,2,3,4,5])\n",
    "a2=array([2,3,4,5.0])\n",
    "print(a1, end='')\n",
    "print(a1.dtype)\n",
    "print(a2, end='')\n",
    "print(a2.dtype)\n",
    "\n",
    "\n",
    "a3=linspace(0,15,17) #start,end(included),no.of.parts to be divided\n",
    "print(a3)\n",
    "print(len(a3))\n",
    "\n",
    "a4=arange(1,10,2) #start, end(inc), step\n",
    "print(a4)\n",
    "\n",
    "a5 = logspace(1,40,5) # start 10^1, end at 10^40,divide  into 5 parts\n",
    "print(a5)\n",
    "print(a5[2])\n",
    "print('%.2f' %a5[2]) #value differentiated with log value\n",
    "\n",
    "a6 = zeros(10,int) #return float by default\n",
    "print(a6)\n",
    "\n",
    "a7 = ones(10,int) #return float by default\n",
    "print(a7)\n",
    "\n",
    "x = lambda x: x+5\n",
    "print(x(a7))\n",
    "\n",
    "y = a7+5\n",
    "print(y)\n",
    "\n",
    "\n",
    "a8 = a6+a7\n",
    "print(a8)\n",
    "print(sin(a8))\n",
    "print(sqrt(y)) # min, max, sum, sort, unique\n",
    "print(concatenate([a6,a7]))\n",
    "\n",
    "\n",
    "print(id(a6)) #printing the address of the array\n",
    "a9=a6\n",
    "a10=a6.view()\n",
    "a11 = a6.copy()\n",
    "print(id(a9)) #same address of a6 as alias is created\n",
    "print(id(a10))\n",
    "print(id(a11))\n",
    "\n",
    "a6[2]=1\n",
    "print(a9) #shallow copy = change made in both array\n",
    "print(a11) #deep copy as change in a6 wont affect a11"
   ]
  },
  {
   "cell_type": "code",
   "execution_count": null,
   "id": "fbb8eac8",
   "metadata": {},
   "outputs": [
    {
     "name": "stdout",
     "output_type": "stream",
     "text": [
      "[[1 2 3]\n",
      " [4 5 6]\n",
      " [7 8 9]\n",
      " [1 2 3]\n",
      " [4 5 6]\n",
      " [7 8 9]]\n",
      "2\n",
      "(6, 3)\n",
      "18\n",
      "[1 2 3 4 5 6 7 8 9 1 2 3 4 5 6 7 8 9]\n"
     ]
    },
    {
     "ename": "ValueError",
     "evalue": "cannot reshape array of size 18 into shape (3,3,3)",
     "output_type": "error",
     "traceback": [
      "\u001b[1;31m---------------------------------------------------------------------------\u001b[0m",
      "\u001b[1;31mValueError\u001b[0m                                Traceback (most recent call last)",
      "Cell \u001b[1;32mIn[142], line 22\u001b[0m\n\u001b[0;32m     19\u001b[0m a2 \u001b[38;5;241m=\u001b[39m a1\u001b[38;5;241m.\u001b[39mflatten()\n\u001b[0;32m     20\u001b[0m \u001b[38;5;28mprint\u001b[39m(a2)\n\u001b[1;32m---> 22\u001b[0m a3 \u001b[38;5;241m=\u001b[39m \u001b[43ma2\u001b[49m\u001b[38;5;241;43m.\u001b[39;49m\u001b[43mreshape\u001b[49m\u001b[43m(\u001b[49m\u001b[38;5;241;43m3\u001b[39;49m\u001b[43m,\u001b[49m\u001b[38;5;241;43m3\u001b[39;49m\u001b[43m,\u001b[49m\u001b[38;5;241;43m3\u001b[39;49m\u001b[43m)\u001b[49m\n\u001b[0;32m     23\u001b[0m \u001b[38;5;28mprint\u001b[39m(a3)\n",
      "\u001b[1;31mValueError\u001b[0m: cannot reshape array of size 18 into shape (3,3,3)"
     ]
    }
   ],
   "source": [
    "#numpy with multi dimension array\n",
    "\n",
    "a1 = array([\n",
    "    [1,2,3],\n",
    "    [4,5,6],\n",
    "    [7,8,9],\n",
    "    [1,2,3],\n",
    "    [4,5,6],\n",
    "    [7,8,9]\n",
    "    \n",
    "    \n",
    "])\n",
    "\n",
    "print(a1)\n",
    "print(a1.ndim)\n",
    "print(a1.shape)\n",
    "print(a1.size)\n",
    "\n",
    "a2 = a1.flatten()\n",
    "print(a2)\n",
    "\n",
    "a3 = a2.reshape(2,3,3)\n",
    "print(a3)"
   ]
  },
  {
   "cell_type": "code",
   "execution_count": null,
   "id": "fd791012",
   "metadata": {},
   "outputs": [
    {
     "name": "stdout",
     "output_type": "stream",
     "text": [
      "[[1 2 3 4 5]\n",
      " [1 2 3 4 5]\n",
      " [1 2 3 4 5]\n",
      " [1 2 3 4 5]\n",
      " [1 2 3 4 5]]\n",
      "[1 2 3 4 5]\n",
      "1\n",
      "[[15 30 45 60 75]\n",
      " [15 30 45 60 75]\n",
      " [15 30 45 60 75]\n",
      " [15 30 45 60 75]\n",
      " [15 30 45 60 75]]\n"
     ]
    }
   ],
   "source": [
    "# matrix\n",
    "# nothing diff than array but has more inbuilt operations\n",
    "#a4 = matrix(a3)\n",
    "m = matrix(' 1 2 3 4 5; 1 2 3 4 5;1 2 3 4 5;1 2 3 4 5;1 2 3 4 5')\n",
    "print(m)\n",
    "print(diagonal(m))\n",
    "\n",
    "print(m.min()) #max\n",
    "\n",
    "m1 = matrix(' 1 2 3 4 5; 1 2 3 4 5;1 2 3 4 5;1 2 3 4 5;1 2 3 4 5')\n",
    "m2 = m1* m \n",
    "print(m2)"
   ]
  }
 ],
 "metadata": {
  "kernelspec": {
   "display_name": "Python 3 (ipykernel)",
   "language": "python",
   "name": "python3"
  },
  "language_info": {
   "codemirror_mode": {
    "name": "ipython",
    "version": 3
   },
   "file_extension": ".py",
   "mimetype": "text/x-python",
   "name": "python",
   "nbconvert_exporter": "python",
   "pygments_lexer": "ipython3",
   "version": "3.11.4"
  }
 },
 "nbformat": 4,
 "nbformat_minor": 5
}

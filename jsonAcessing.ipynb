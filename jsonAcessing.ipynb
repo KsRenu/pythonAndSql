{
 "cells": [
  {
   "cell_type": "markdown",
   "metadata": {},
   "source": [
    "# Acceessing JSON from string"
   ]
  },
  {
   "cell_type": "code",
   "execution_count": 41,
   "metadata": {},
   "outputs": [],
   "source": [
    "import json"
   ]
  },
  {
   "cell_type": "code",
   "execution_count": 42,
   "metadata": {},
   "outputs": [],
   "source": [
    "jsonStr='{\\\"id\\\":1,\\\"name\\\":\\\"renu\\\",\\\"year\\\":\\\"third\\\"}'\n",
    "jsonArray='[\\\"one\\\",\\\"two\\\",\\\"three\\\"]'"
   ]
  },
  {
   "cell_type": "code",
   "execution_count": 43,
   "metadata": {},
   "outputs": [
    {
     "name": "stdout",
     "output_type": "stream",
     "text": [
      "Str: {'id': 1, 'name': 'renu', 'year': 'third'}\n",
      "Array:  ['one', 'two', 'three']\n",
      "<class 'dict'>\n",
      "<class 'list'>\n"
     ]
    }
   ],
   "source": [
    "details=json.loads(jsonStr)\n",
    "detailsArray=json.loads(jsonArray)\n",
    "print(\"Str:\",details)\n",
    "#print(f\"{details}\")\n",
    "print(\"Array: \",detailsArray)\n",
    "print(type(details))\n",
    "print(type(detailsArray))"
   ]
  },
  {
   "cell_type": "code",
   "execution_count": 44,
   "metadata": {},
   "outputs": [
    {
     "name": "stdout",
     "output_type": "stream",
     "text": [
      "renu\n"
     ]
    }
   ],
   "source": [
    "#json docx are converted to python dicts\n",
    "#json arrays are converted to python lists\n",
    "print(details['name'])"
   ]
  },
  {
   "cell_type": "markdown",
   "metadata": {},
   "source": [
    "# Accessing JSON from document"
   ]
  },
  {
   "cell_type": "code",
   "execution_count": 45,
   "metadata": {},
   "outputs": [
    {
     "name": "stdout",
     "output_type": "stream",
     "text": [
      "{'isbn': '123-456-222', 'author': [{'lastname': 'Doe1', 'firstname': 'Jane5'}, {'lastname': 'Doe2', 'firstname': 'Jane4'}, {'lastname': 'Doe3', 'firstname': 'Jane3'}, {'lastname': 'Doe4', 'firstname': 'Jane2'}, {'lastname': 'Doe5', 'firstname': 'Jane1'}], 'editor': {'lastname': 'Smith', 'firstname': 'Jane'}, 'title': ['The Ultimate Database Study Guide1', 'The Ultimate Database Study Guide2', 'The Ultimate Database Study Guide3'], 'category': ['Non-Fiction', 'Technology']}\n"
     ]
    }
   ],
   "source": [
    "filePath='/Users/Renu/Documents/pythonAndSql/schema.json'\n",
    "open(filePath,'r') #creating file object\n",
    "#fileRead= fileOpen.read()\n",
    "schemas = json.load(open(filePath,'r'))\n",
    "print(schemas)"
   ]
  },
  {
   "cell_type": "code",
   "execution_count": 46,
   "metadata": {},
   "outputs": [
    {
     "name": "stdout",
     "output_type": "stream",
     "text": [
      "<class 'dict'>\n"
     ]
    }
   ],
   "source": [
    "print(type(schemas))\n"
   ]
  },
  {
   "cell_type": "code",
   "execution_count": 47,
   "metadata": {},
   "outputs": [
    {
     "name": "stdout",
     "output_type": "stream",
     "text": [
      "dict_keys(['isbn', 'author', 'editor', 'title', 'category'])\n",
      "[{'lastname': 'Doe1', 'firstname': 'Jane5'}, {'lastname': 'Doe2', 'firstname': 'Jane4'}, {'lastname': 'Doe3', 'firstname': 'Jane3'}, {'lastname': 'Doe4', 'firstname': 'Jane2'}, {'lastname': 'Doe5', 'firstname': 'Jane1'}]\n"
     ]
    }
   ],
   "source": [
    "print(schemas.keys())\n",
    "print(schemas.get(\"author\"))"
   ]
  },
  {
   "cell_type": "code",
   "execution_count": 48,
   "metadata": {},
   "outputs": [
    {
     "name": "stdout",
     "output_type": "stream",
     "text": [
      "col:  [{'lastname': 'Doe1', 'firstname': 'Jane5'}, {'lastname': 'Doe2', 'firstname': 'Jane4'}, {'lastname': 'Doe3', 'firstname': 'Jane3'}, {'lastname': 'Doe4', 'firstname': 'Jane2'}, {'lastname': 'Doe5', 'firstname': 'Jane1'}]\n"
     ]
    }
   ],
   "source": [
    "columnDetails=schemas['author']\n",
    "print('col: ',columnDetails)"
   ]
  },
  {
   "cell_type": "code",
   "execution_count": 49,
   "metadata": {},
   "outputs": [],
   "source": [
    "sortingKey=input('Enter sorting key: ')\n",
    "columns=sorted(columnDetails,key=lambda x: x[sortingKey])"
   ]
  },
  {
   "cell_type": "code",
   "execution_count": 50,
   "metadata": {},
   "outputs": [
    {
     "data": {
      "text/plain": [
       "['Jane5', 'Jane4', 'Jane3', 'Jane2', 'Jane1']"
      ]
     },
     "execution_count": 50,
     "metadata": {},
     "output_type": "execute_result"
    }
   ],
   "source": [
    "[col['firstname'] for col in columns]"
   ]
  },
  {
   "cell_type": "code",
   "execution_count": 55,
   "metadata": {},
   "outputs": [],
   "source": [
    "def getColumnNames(schemas,dsName,sortingKey='lastname'):\n",
    "    columnDetails=schemas[dsName]\n",
    "    columns=sorted(columnDetails,key=lambda x: x[sortingKey])\n",
    "    #return columns\n",
    "    return [col['firstname'] for col in columns]"
   ]
  },
  {
   "cell_type": "code",
   "execution_count": 56,
   "metadata": {},
   "outputs": [
    {
     "data": {
      "text/plain": [
       "['Jane5', 'Jane4', 'Jane3', 'Jane2', 'Jane1']"
      ]
     },
     "execution_count": 56,
     "metadata": {},
     "output_type": "execute_result"
    }
   ],
   "source": [
    "getColumnNames(schemas,'author')"
   ]
  },
  {
   "cell_type": "code",
   "execution_count": 4,
   "metadata": {},
   "outputs": [
    {
     "name": "stdout",
     "output_type": "stream",
     "text": [
      "{\n",
      "    \"name\": \"John\",\n",
      "    \"age\": 30,\n",
      "    \"married\": true,\n",
      "    \"divorced\": false,\n",
      "    \"children\": [\n",
      "        \"Ann\",\n",
      "        \"Billy\"\n",
      "    ],\n",
      "    \"pets\": null,\n",
      "    \"cars\": [\n",
      "        {\n",
      "            \"model\": \"BMW 230\",\n",
      "            \"mpg\": 27.5\n",
      "        },\n",
      "        {\n",
      "            \"model\": \"Ford Edge\",\n",
      "            \"mpg\": 24.1\n",
      "        }\n",
      "    ]\n",
      "}\n"
     ]
    }
   ],
   "source": [
    "import json\n",
    "\n",
    "x = {\n",
    "  \"name\": \"John\",\n",
    "  \"age\": 30,\n",
    "  \"married\": True,\n",
    "  \"divorced\": False,\n",
    "  \"children\": (\"Ann\",\"Billy\"),\n",
    "  \"pets\": None,\n",
    "  \"cars\": [\n",
    "    {\"model\": \"BMW 230\", \"mpg\": 27.5},\n",
    "    {\"model\": \"Ford Edge\", \"mpg\": 24.1}\n",
    "  ]\n",
    "}\n",
    "\n",
    "print(json.dumps(x, indent=4))"
   ]
  },
  {
   "cell_type": "code",
   "execution_count": null,
   "metadata": {},
   "outputs": [],
   "source": []
  }
 ],
 "metadata": {
  "kernelspec": {
   "display_name": "base",
   "language": "python",
   "name": "python3"
  },
  "language_info": {
   "codemirror_mode": {
    "name": "ipython",
    "version": 3
   },
   "file_extension": ".py",
   "mimetype": "text/x-python",
   "name": "python",
   "nbconvert_exporter": "python",
   "pygments_lexer": "ipython3",
   "version": "3.9.7"
  },
  "orig_nbformat": 4
 },
 "nbformat": 4,
 "nbformat_minor": 2
}

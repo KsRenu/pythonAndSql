{
 "cells": [
  {
   "cell_type": "markdown",
   "metadata": {},
   "source": [
    "# Acceessing JSON from string"
   ]
  },
  {
   "cell_type": "code",
   "execution_count": 12,
   "metadata": {},
   "outputs": [],
   "source": [
    "import json"
   ]
  },
  {
   "cell_type": "code",
   "execution_count": 7,
   "metadata": {},
   "outputs": [],
   "source": [
    "jsonStr='{\\\"id\\\":1,\\\"name\\\":\\\"renu\\\",\\\"year\\\":\\\"third\\\"}'\n",
    "jsonArray='[\\\"one\\\",\\\"two\\\",\\\"three\\\"]'"
   ]
  },
  {
   "cell_type": "code",
   "execution_count": 11,
   "metadata": {},
   "outputs": [
    {
     "name": "stdout",
     "output_type": "stream",
     "text": [
      "Str: {'id': 1, 'name': 'renu', 'year': 'third'}\n",
      "{} check {'id': 1, 'name': 'renu', 'year': 'third'}\n",
      "Array:  ['one', 'two', 'three']\n",
      "<class 'dict'>\n",
      "<class 'list'>\n"
     ]
    }
   ],
   "source": [
    "details=json.loads(jsonStr)\n",
    "detailsArray=json.loads(jsonArray)\n",
    "print(\"Str:\",details)\n",
    "#print(f\"{details}\")\n",
    "print(\"Array: \",detailsArray)\n",
    "print(type(details))\n",
    "print(type(detailsArray))"
   ]
  },
  {
   "cell_type": "code",
   "execution_count": 5,
   "metadata": {},
   "outputs": [
    {
     "name": "stdout",
     "output_type": "stream",
     "text": [
      "renu\n"
     ]
    }
   ],
   "source": [
    "#json docx are converted to python dicts\n",
    "#json arrays are converted to python lists\n",
    "print(details['name'])"
   ]
  },
  {
   "cell_type": "markdown",
   "metadata": {},
   "source": [
    "# Accessing JSON from document"
   ]
  },
  {
   "cell_type": "code",
   "execution_count": 38,
   "metadata": {},
   "outputs": [
    {
     "name": "stdout",
     "output_type": "stream",
     "text": [
      "{'isbn': '123-456-222', 'author': {'lastname': 'Doe', 'firstname': 'Jane'}, 'editor': {'lastname': 'Smith', 'firstname': 'Jane'}, 'title': 'The Ultimate Database Study Guide', 'category': ['Non-Fiction', 'Technology']}\n"
     ]
    }
   ],
   "source": [
    "filePath='/Users/Renu/Documents/pythonAndSql/schema.json'\n",
    "open(filePath,'r') #creating file object\n",
    "#fileRead= fileOpen.read()\n",
    "schemas = json.load(open(filePath,'r'))\n",
    "print(schemas)"
   ]
  },
  {
   "cell_type": "code",
   "execution_count": 39,
   "metadata": {},
   "outputs": [
    {
     "name": "stdout",
     "output_type": "stream",
     "text": [
      "<class 'dict'>\n"
     ]
    }
   ],
   "source": [
    "print(type(schemas))\n"
   ]
  },
  {
   "cell_type": "code",
   "execution_count": 45,
   "metadata": {},
   "outputs": [
    {
     "name": "stdout",
     "output_type": "stream",
     "text": [
      "dict_keys(['isbn', 'author', 'editor', 'title', 'category'])\n"
     ]
    }
   ],
   "source": [
    "print(schemas.keys())\n",
    "print(schemas.get(\"author\"))"
   ]
  },
  {
   "cell_type": "code",
   "execution_count": null,
   "metadata": {},
   "outputs": [],
   "source": []
  }
 ],
 "metadata": {
  "kernelspec": {
   "display_name": "base",
   "language": "python",
   "name": "python3"
  },
  "language_info": {
   "codemirror_mode": {
    "name": "ipython",
    "version": 3
   },
   "file_extension": ".py",
   "mimetype": "text/x-python",
   "name": "python",
   "nbconvert_exporter": "python",
   "pygments_lexer": "ipython3",
   "version": "3.9.7"
  },
  "orig_nbformat": 4
 },
 "nbformat": 4,
 "nbformat_minor": 2
}
